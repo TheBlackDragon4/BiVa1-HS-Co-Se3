{
 "cells": [
  {
   "cell_type": "markdown",
   "id": "4dba8901",
   "metadata": {},
   "source": [
    "# Exercise 04:  Non-Linear-Optimization Circle\n",
    "**Objectives of the lesson:**\n",
    "\n",
    "1. Given Data Points & Circle-Parameters\n",
    "2. Residuum Calculation\n",
    "3. Jacobi Matrix Calculation\n",
    "4. Gauss-Newton Optimization Calculation \n",
    "6. Plotting Optimization Results"
   ]
  },
  {
   "cell_type": "code",
   "execution_count": 1,
   "id": "34167cd4",
   "metadata": {},
   "outputs": [],
   "source": [
    "import numpy as np\n",
    "import matplotlib.pyplot as plt"
   ]
  },
  {
   "cell_type": "markdown",
   "id": "3dbcf295",
   "metadata": {},
   "source": [
    "## 1. Given Data points & Circle-Parameters "
   ]
  },
  {
   "cell_type": "code",
   "execution_count": 2,
   "id": "00c74801",
   "metadata": {},
   "outputs": [],
   "source": [
    "# datapoints: (1, 7), (2, 6), (5, 8), (7, 7), (9, 5), (3, 7)\n",
    "circle_points = np.array([[1, 7],\n",
    "                          [2, 6],\n",
    "                          [5, 8],\n",
    "                          [7, 7],\n",
    "                          [9, 5],\n",
    "                          [3, 7]])\n",
    "\n",
    "# cirlce parameters = (z1, z2, r) = (5.3794, 7.2532, 3.0370)\n",
    "circle_parameters = np.array([[5.3794], [7.2532], [3.0370]])"
   ]
  },
  {
   "cell_type": "markdown",
   "id": "c6b46723",
   "metadata": {},
   "source": [
    "## 2. Residuum Calculation\n",
    "**Dimensions of Residuum Vector:** <br>\n",
    "nx1<br>\n",
    "n : count of data points"
   ]
  },
  {
   "cell_type": "code",
   "execution_count": 3,
   "id": "95d513bf",
   "metadata": {},
   "outputs": [],
   "source": [
    "def res_func(cpo, cpa):\n",
    "    # optimization function f(z1, z2, r) = r - sqrt((z1-xi)^2 + (z2 - yi)^2), xi & yi are circle_points\n",
    "    \n",
    "    # shaping corresponding residuum container, number of residuum rows  == number of counted datapoints\n",
    "    residuum = np.zeros((cpo.shape[0], 1))\n",
    "\n",
    "    index = 0 \n",
    "\n",
    "    # calculating residuum container for i given datapoints\n",
    "    for i in cpo:\n",
    "        residuum[index] = cpa[2] - np.sqrt(np.square(cpa[0] - i[0]) + np.square(cpa[1] - i[1]))\n",
    "        index = index +1\n",
    "        \n",
    "    return residuum"
   ]
  },
  {
   "cell_type": "markdown",
   "id": "db212417",
   "metadata": {},
   "source": [
    "## 3. Jacobi Matrix Calculation\n",
    "**Dimensions of Residuum Vector:** <br>\n",
    "nxm <br>\n",
    "n : count of data points <br>\n",
    "m : count of parameters Residuum-Function"
   ]
  },
  {
   "cell_type": "code",
   "execution_count": 4,
   "id": "0b7d029e",
   "metadata": {},
   "outputs": [],
   "source": [
    "# derivation r : f = 1\n",
    "# derivation z1: f = (z1 - x1) / sqrt((z1-x1)^2 + (z2 - x2)^2)\n",
    "# derivation z2: f = (z2 - x2) / sqrt((z1-x1)^2 + (z2 - x2)^2)\n",
    "\n",
    "def jacobi_matrix(cpo,cpa):\n",
    "    \n",
    "    # shaping corresponding jacobi matrix\n",
    "    # number of jacobi matrix rows  == number of counted datapoints\n",
    "    # number of jacobi matrix columns  == number of counted circle parameters\n",
    "    jacobi = np.zeros((cpo.shape[0], cpa.shape[0]))\n",
    "\n",
    "    index = 0\n",
    "\n",
    "    # calculating jacobi matrix row-wise for every given datapoint\n",
    "    for i in cpo:\n",
    "        jacobi[index][0] = - (cpa[0] - i[0]) / np.sqrt(np.square(cpa[0] - i[0]) + np.square(cpa[1] - i[1]))\n",
    "        jacobi[index][1] = - (cpa[1] - i[1]) / np.sqrt(np.square(cpa[0] - i[0]) + np.square(cpa[1] - i[1]))\n",
    "        jacobi[index][2] = 1\n",
    "        index = index +1\n",
    "\n",
    "    return jacobi"
   ]
  },
  {
   "cell_type": "markdown",
   "id": "7d2985d5",
   "metadata": {},
   "source": [
    "## 4. Gauss-Newton Optimization Calculation \n",
    "**Gauss-Newton Optimization:**<br>\n",
    "parameters = parameters - (jacobi_matrix ^-1) * residuum-vector <br>\n",
    "parameters : given parameters at the beginning, not data points!"
   ]
  },
  {
   "cell_type": "code",
   "execution_count": 5,
   "id": "bede19c6",
   "metadata": {},
   "outputs": [
    {
     "name": "stdout",
     "output_type": "stream",
     "text": [
      "Optimized Circle Parameters: \n",
      " [[4.73978241]\n",
      " [2.9835327 ]\n",
      " [4.71422604]]\n",
      "Final Error Value: \n",
      " 1.1079707027641381\n",
      "Optimized Circle:\n"
     ]
    },
    {
     "data": {
      "image/png": "[encoded data removed]",
      "text/plain": [
       "<Figure size 432x288 with 1 Axes>"
      ]
     },
     "metadata": {
      "needs_background": "light"
     },
     "output_type": "display_data"
    }
   ],
   "source": [
    "max_iterations = 1000\n",
    "epsilon = 0.41\n",
    "\n",
    "#plot circle parameters - first optimization green\n",
    "circle = plt.Circle((circle_parameters[0],  circle_parameters[1]), circle_parameters[2], fc='none', ec='g')\n",
    "plt.gca().add_patch(circle)\n",
    "\n",
    "for i in range(max_iterations):\n",
    "    \n",
    "    # calculate residuum vector\n",
    "    res = res_func(circle_points, circle_parameters)\n",
    "    # calculate jacobi matrix\n",
    "    jac = jacobi_matrix(circle_points, circle_parameters)\n",
    "    # More-Penrose inverse of jacobi matrix\n",
    "    j_plus = np.dot(np.linalg.inv(np.dot(np.transpose(jac), jac)), np.transpose(jac))\n",
    "    # update circle parameters - Gauss-Newton\n",
    "    circle_parameters = circle_parameters - np.dot(j_plus, res)\n",
    "    #plot cirlce parameters - during optimization red\n",
    "    circle = plt.Circle((circle_parameters[0],  circle_parameters[1]), circle_parameters[2], fc='none', ec='r')\n",
    "    plt.gca().add_patch(circle)\n",
    "    # epsilon break\n",
    "    if np.linalg.norm(res) < epsilon:\n",
    "            break\n",
    "    \n",
    "print(\"Optimized Circle Parameters: \\n\", circle_parameters)\n",
    "print(\"Final Error Value: \\n\", np.linalg.norm(res))\n",
    "\n",
    "#plot cirlce parameters - final optimization blue\n",
    "circle = plt.Circle((circle_parameters[0],  circle_parameters[1]), circle_parameters[2], fc='none', ec='b')\n",
    "plt.gca().add_patch(circle)\n",
    "\n",
    "for i in range(np.shape(circle_points)[0]):\n",
    "    plt.scatter(circle_points[i][0], circle_points[i][1], s=100, facecolors='g', edgecolors='g')\n",
    "    \n",
    "# Schaubild anzeigen\n",
    "print(\"Optimized Circle:\")\n",
    "plt.tick_params(axis='both', which='major', labelsize=9)\n",
    "plt.ylim(-10, 10)\n",
    "plt.xlim(-10, 10)\n",
    "plt.axis('equal')\n",
    "plt.show()"
   ]
  },
  {
   "cell_type": "markdown",
   "id": "14a98d4a",
   "metadata": {},
   "source": [
    "## 5. Plotting Optimization Results"
   ]
  },
  {
   "cell_type": "code",
   "execution_count": 6,
   "id": "d50b71e8",
   "metadata": {},
   "outputs": [
    {
     "name": "stdout",
     "output_type": "stream",
     "text": [
      "Data Points:\n",
      "( 1 , 7 )\n",
      "( 2 , 6 )\n",
      "( 5 , 8 )\n",
      "( 7 , 7 )\n",
      "( 9 , 5 )\n",
      "( 3 , 7 )\n",
      "Optimized Circle:\n"
     ]
    },
    {
     "data": {
      "image/png": "[encoded data removed]",
      "text/plain": [
       "<Figure size 432x288 with 1 Axes>"
      ]
     },
     "metadata": {
      "needs_background": "light"
     },
     "output_type": "display_data"
    }
   ],
   "source": [
    "# plot cirlce with calculated parameters\n",
    "circle = plt.Circle((circle_parameters[0],  circle_parameters[1]), circle_parameters[2], fc='none', ec='r')\n",
    "plt.gca().add_patch(circle)\n",
    "\n",
    "# print data points\n",
    "print(\"Data Points:\")\n",
    "for i in range(np.shape(circle_points)[0]):\n",
    "    print(\"(\" , circle_points[i][0] , \",\" , circle_points[i][1] , \")\")\n",
    "#plot data points\n",
    "for i in range(np.shape(circle_points)[0]):\n",
    "    plt.scatter(circle_points[i][0], circle_points[i][1], s=100, facecolors='g', edgecolors='g')\n",
    "    \n",
    "# plot settings\n",
    "print(\"Optimized Circle:\")\n",
    "plt.tick_params(axis='both', which='major', labelsize=9)\n",
    "plt.ylim(-10, 10)\n",
    "plt.xlim(-10, 10)\n",
    "plt.axis('equal')\n",
    "plt.show()"
   ]
  }
 ],
 "metadata": {
  "kernelspec": {
   "display_name": "Python 3.8.8 ('base')",
   "language": "python",
   "name": "python3"
  },
  "language_info": {
   "codemirror_mode": {
    "name": "ipython",
    "version": 3
   },
   "file_extension": ".py",
   "mimetype": "text/x-python",
   "name": "python",
   "nbconvert_exporter": "python",
   "pygments_lexer": "ipython3",
   "version": "3.8.8"
  },
  "vscode": {
   "interpreter": {
    "hash": "b8ed36f8d2a86c0eb0f70e7961ab78f8f5f8260b697a01ebd32a1b2f351aacad"
   }
  }
 },
 "nbformat": 4,
 "nbformat_minor": 5
}
