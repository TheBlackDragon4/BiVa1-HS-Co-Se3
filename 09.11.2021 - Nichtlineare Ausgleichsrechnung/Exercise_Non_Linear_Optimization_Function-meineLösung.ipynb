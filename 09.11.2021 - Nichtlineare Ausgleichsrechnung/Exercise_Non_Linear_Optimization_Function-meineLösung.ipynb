{
 "cells": [
  {
   "cell_type": "markdown",
   "id": "68633b98",
   "metadata": {},
   "source": [
    "# Exercise 04:  Non-Linear-Optimization Function + Student Exercise\n",
    "**Objectives of the lesson:**\n",
    "\n",
    "1. Given Data Points & Function-Parameters\n",
    "2. Residuum Calculation\n",
    "3. Jacobi Matrix Calculation\n",
    "4. Gauss-Newton Optimization Calculation - Student Exercise\n",
    "5. Gradient-Descent Optimization Calculation - Student Exercise\n",
    "6. Plotting Optimization Results"
   ]
  },
  {
   "cell_type": "code",
   "execution_count": 2,
   "id": "66d00306",
   "metadata": {},
   "outputs": [],
   "source": [
    "import numpy as np\n",
    "import matplotlib.pyplot as plt"
   ]
  },
  {
   "cell_type": "markdown",
   "id": "3cc36b68",
   "metadata": {},
   "source": [
    "## 1. Given Data Points & Function-Parameters \n",
    "**Function: <br>** f(a, b, c) : yi = |(a * (xi^2)) + (b * xi)| + c"
   ]
  },
  {
   "cell_type": "code",
   "execution_count": 3,
   "id": "95d849e7",
   "metadata": {},
   "outputs": [],
   "source": [
    "# # data points: (-1,5.124), (0,2.023), (1,4.6445), (3, 2.222), (4, 6.432)\n",
    "function_points = np.array([[-1,5.124], [0,2.023], [1,4.6445], [3, 2.222], [4, 6.432]])\n",
    "\n",
    "# function parameters = (a, b, c) = (4, 1, 0)\n",
    "function_parameters = np.array([[4], [1], [0]])"
   ]
  },
  {
   "cell_type": "markdown",
   "id": "d61c97d4",
   "metadata": {},
   "source": [
    "**Mathematical definition of signum:**"
   ]
  },
  {
   "cell_type": "code",
   "execution_count": 4,
   "id": "33e8f6c8",
   "metadata": {},
   "outputs": [],
   "source": [
    "def sgn(x):\n",
    "    if(x > 0 ):\n",
    "        return 1\n",
    "    else:\n",
    "        return -1"
   ]
  },
  {
   "cell_type": "markdown",
   "id": "caaa59cd",
   "metadata": {},
   "source": [
    "## 2. Residuum Calculation\n",
    "**Dimensions of Residuum Vector:** <br>\n",
    "nx1<br>\n",
    "n : count of data points"
   ]
  },
  {
   "cell_type": "code",
   "execution_count": 5,
   "id": "eebc249a",
   "metadata": {},
   "outputs": [],
   "source": [
    "def res_func(fpo, fpa):\n",
    "    # optimization function f(a, b, c) = yi - |(a * (xi^2)) + (b * xi)| - c, xi & yi are function_points\n",
    "    \n",
    "    # shaping corresponding residuum container, number of residuum rows  == number of counted datapoints\n",
    "    residuum = np.zeros((fpo.shape[0], 1))\n",
    "\n",
    "    index = 0 \n",
    "\n",
    "    # calculating residuum container for i given datapoints\n",
    "    for i in fpo:\n",
    "        residuum[index] = i[1] - np.linalg.norm((fpa[0] * np.square(i[0]) + (fpa[1] * i[0]))) - fpa[2]\n",
    "        index = index +1\n",
    "        \n",
    "    return residuum"
   ]
  },
  {
   "cell_type": "markdown",
   "id": "d1b643f6",
   "metadata": {},
   "source": [
    "## 3. Jacobi Matrix Calculation\n",
    "**Dimensions of Residuum Vector:** <br>\n",
    "nxm <br>\n",
    "n : count of data points <br>\n",
    "m : count of parameters Residuum-Function"
   ]
  },
  {
   "cell_type": "code",
   "execution_count": 6,
   "id": "c38af632",
   "metadata": {},
   "outputs": [],
   "source": [
    "# derivation a: f = -(xi^2) * sgn((a * (xi^2)) + (b * xi))\n",
    "# derivation b: f =  -xi * sgn((a * (xi^2)) + (b * xi))\n",
    "# derivation c : f = -1\n",
    "\n",
    "def jacobi_matrix(fpo, fpa):\n",
    "    \n",
    "    # shaping corresponding jacobi matrix\n",
    "    # number of jacobi matrix rows  == number of counted datapoints\n",
    "    # number of jacobi matrix columns  == number of counted circle parameters\n",
    "    jacobi = np.zeros((fpo.shape[0], fpa.shape[0]))\n",
    "\n",
    "    index = 0\n",
    "\n",
    "    # calculating jacobi matrix row-wise for every given datapoint\n",
    "    for i in fpo:\n",
    "        jacobi[index][0] = - np.square(i[0]) * sgn((fpa[0] * np.square(i[0])) + (fpa[1] * i[0]))\n",
    "        jacobi[index][1] = - i[0] * sgn((fpa[0] * np.square(i[0])) + (fpa[1] * i[0]))\n",
    "        jacobi[index][2] = -1\n",
    "        index = index +1\n",
    "\n",
    "    return jacobi"
   ]
  },
  {
   "cell_type": "markdown",
   "id": "a1ce086e",
   "metadata": {},
   "source": [
    "## 4. Gauss-Newton Optimization Calculation - Student Exercise\n",
    "**Gauss-Newton Optimization:**<br>\n",
    "parameters = parameters - (jacobi_matrix ^-1) * residuum-vector <br>\n",
    "parameters : given parameters at the beginning, not data points! Updated iteration-wise"
   ]
  },
  {
   "cell_type": "code",
   "execution_count": 7,
   "id": "f79e9e49",
   "metadata": {},
   "outputs": [
    {
     "name": "stdout",
     "output_type": "stream",
     "text": [
      "Optimized Function Parameters: \n",
      " [[ 0.913875  ]\n",
      " [-2.64253409]\n",
      " [ 2.16225909]]\n",
      "Final Error Value: \n",
      " 1.0221549629003515\n"
     ]
    }
   ],
   "source": [
    "max_iterations = 400\n",
    "epsilon = 0.5\n",
    "\n",
    "for i in range(max_iterations):\n",
    "    ######### Student Exercise Start #########\n",
    "    # calculate residuum vector\n",
    "    res = res_func(function_points, function_parameters)\n",
    "    # calculate jacobi matrix\n",
    "    jac = jacobi_matrix(function_points, function_parameters)\n",
    "    # More-Penrose inverse of jacobi matrix\n",
    "    j_plus = np.dot(np.linalg.inv(np.dot(np.transpose(jac), jac)), np.transpose(jac))\n",
    "    # update circle parameters - Gauss-Newton\n",
    "    function_parameters = function_parameters - np.dot(j_plus, res)\n",
    "    # epsilon break\n",
    "    if np.linalg.norm(res) < epsilon:\n",
    "            break    \n",
    "    ######### Student Exercise End   #########\n",
    "            \n",
    "print(\"Optimized Function Parameters: \\n\", function_parameters)\n",
    "print(\"Final Error Value: \\n\", np.linalg.norm(res))\n",
    "# show results\n",
    "plt.show()"
   ]
  },
  {
   "cell_type": "markdown",
   "id": "79f46cce",
   "metadata": {},
   "source": [
    "## 5. Gradient-Descent Optimization Calculation - Student Exercise\n",
    "**Gradient-Descent Optimization:**<br>\n",
    "parameters = parameters - gamma * (jacobi_matrix^T * residuum-vector) <br>\n",
    "parameters : given parameters at the beginning, not data points!<br>\n",
    "gamma : step-size for Gradient-Descent Optimization"
   ]
  },
  {
   "cell_type": "code",
   "execution_count": 9,
   "id": "6cff3a14",
   "metadata": {},
   "outputs": [
    {
     "name": "stdout",
     "output_type": "stream",
     "text": [
      "Optimized Function Parameters: \n",
      " [[ 0.913875  ]\n",
      " [-2.64253409]\n",
      " [ 2.16225909]]\n",
      "Final Error Value: \n",
      " 1.022154962900351\n"
     ]
    }
   ],
   "source": [
    "max_iterations = 400\n",
    "epsilon = 1.0\n",
    "# stepsize for Gradient-Descent Optimization\n",
    "gamma = 0.0019\n",
    "\n",
    "for i in range(max_iterations):\n",
    "    ######### Student Exercise Start #########\n",
    "    # calculate residuum vector\n",
    "    res = res_func(function_points, function_parameters)\n",
    "    # calculate jacobi matrix\n",
    "    jac = jacobi_matrix(function_points, function_parameters)\n",
    "    # update circle parameters - Gradient-Descent Optimization\n",
    "    function_parameters = function_parameters - (gamma * np.dot(np.transpose(jac), res))\n",
    "    # epsilon break\n",
    "    if np.linalg.norm(res) < epsilon:\n",
    "            break\n",
    "    ######### Student Exercise End   #########\n",
    "    \n",
    "print(\"Optimized Function Parameters: \\n\", function_parameters)\n",
    "print(\"Final Error Value: \\n\", np.linalg.norm(res))"
   ]
  },
  {
   "cell_type": "markdown",
   "id": "c9ec4af0",
   "metadata": {},
   "source": [
    "## 6. Plotting Optimization Results"
   ]
  },
  {
   "cell_type": "code",
   "execution_count": null,
   "id": "dde33fe1",
   "metadata": {},
   "outputs": [
    {
     "name": "stdout",
     "output_type": "stream",
     "text": [
      "Datapoints:\n",
      "( -1.0 , 5.124 )\n",
      "( 0.0 , 2.023 )\n",
      "( 1.0 , 4.6445 )\n",
      "( 3.0 , 2.222 )\n",
      "( 4.0 , 6.432 )\n",
      "Optimized Function:\n"
     ]
    },
    {
     "data": {
      "image/png": "[encoded data removed]",
      "text/plain": [
       "<Figure size 432x288 with 1 Axes>"
      ]
     },
     "metadata": {
      "needs_background": "light"
     },
     "output_type": "display_data"
    }
   ],
   "source": [
    "# plotting range for calculated function parameters\n",
    "t = np.arange(-3, 4, 0.1)\n",
    "# calculating function values for plotting range\n",
    "s = np.sqrt(np.square((function_parameters[0] * np.square(t)) + (function_parameters[1] * t))) + function_parameters[2]\n",
    "# plot calculated function values\n",
    "fig, ax = plt.subplots()\n",
    "ax.plot(t, s)\n",
    "\n",
    "print(\"Datapoints:\")\n",
    "# print data points\n",
    "for i in range(np.shape(function_points)[0]):\n",
    "    print(\"(\" , function_points[i][0] , \",\" , function_points[i][1] , \")\")\n",
    "# plot data points\n",
    "print(\"Optimized Function:\")\n",
    "for i in range(np.shape(function_points)[0]):\n",
    "    plt.scatter(function_points[i][0], function_points[i][1], s=100, facecolors='g', edgecolors='g')\n",
    "\n",
    "# show results\n",
    "plt.show()"
   ]
  },
  {
   "cell_type": "code",
   "execution_count": null,
   "id": "aff8aa8f",
   "metadata": {},
   "outputs": [],
   "source": []
  }
 ],
 "metadata": {
  "kernelspec": {
   "display_name": "Python 3.8.8 ('base')",
   "language": "python",
   "name": "python3"
  },
  "language_info": {
   "codemirror_mode": {
    "name": "ipython",
    "version": 3
   },
   "file_extension": ".py",
   "mimetype": "text/x-python",
   "name": "python",
   "nbconvert_exporter": "python",
   "pygments_lexer": "ipython3",
   "version": "3.8.8"
  },
  "vscode": {
   "interpreter": {
    "hash": "b8ed36f8d2a86c0eb0f70e7961ab78f8f5f8260b697a01ebd32a1b2f351aacad"
   }
  }
 },
 "nbformat": 4,
 "nbformat_minor": 5
}
