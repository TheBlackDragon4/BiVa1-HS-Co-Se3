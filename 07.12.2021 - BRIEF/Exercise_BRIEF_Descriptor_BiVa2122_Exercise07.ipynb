{
 "cells": [
  {
   "cell_type": "markdown",
   "id": "b40b122a",
   "metadata": {},
   "source": [
    "## Solution 07: BRIEF Descriptor BiVa WS 21/22\n",
    "**Objectives of the lesson:**\n",
    "\n",
    "1. BRIEF Descriptor\n",
    "2. Student Exercise Hamming Distance"
   ]
  },
  {
   "cell_type": "code",
   "execution_count": 2,
   "id": "8e088414",
   "metadata": {},
   "outputs": [],
   "source": [
    "import matplotlib.pyplot as plt\n",
    "import numpy as np\n",
    "from ipywidgets import interact, interactive, fixed, interact_manual\n",
    "import ipywidgets as widgets\n",
    "from ipywidgets import HBox, Label\n",
    "import random"
   ]
  },
  {
   "cell_type": "markdown",
   "id": "48d77d6a",
   "metadata": {},
   "source": [
    "## 1. BRIEF Descriptor"
   ]
  },
  {
   "cell_type": "markdown",
   "id": "60a92ba5",
   "metadata": {},
   "source": [
    "### 1.1. Generate Random Pixel Pairs for BRIEF Algorithm"
   ]
  },
  {
   "cell_type": "code",
   "execution_count": 3,
   "id": "da11ffcd",
   "metadata": {},
   "outputs": [],
   "source": [
    "# generate random pixel pair values\n",
    "def PixelPairs(numPairs):\n",
    "    pairs = np.zeros((numPairs,2,2))\n",
    "    for p in range(numPairs):\n",
    "        #x and y value of first point\n",
    "        pairs[p,0,0] = random.randint(0, 7)\n",
    "        pairs[p,0,1] = random.randint(0, 7)\n",
    "        \n",
    "        # generate x and y value for second point != first point values\n",
    "        match = False\n",
    "        while(not match):\n",
    "            pairs[p,1,0] = random.randint(0,7)\n",
    "            pairs[p,1,1] = random.randint(0,7)\n",
    "            if(pairs[p,1,0] != pairs[p,0,0] or pairs[p,1,1] != pairs[p,0,1]):\n",
    "                match = True\n",
    "    return pairs"
   ]
  },
  {
   "cell_type": "markdown",
   "id": "eb768bf1",
   "metadata": {},
   "source": [
    "### 1.2. Calculate BRIEF Descriptor"
   ]
  },
  {
   "cell_type": "code",
   "execution_count": 4,
   "id": "b079f527",
   "metadata": {},
   "outputs": [],
   "source": [
    "# calculate BRIEF descriptor\n",
    "def BRIEF(img, pairs, numPairs):\n",
    "    brief = np.zeros(numPairs)\n",
    "    # iterate over pixel pairs\n",
    "    for i in range(numPairs):\n",
    "        # if second pixel value is larger than first pixel value\n",
    "        if img[int(pairs[i,1,1]), int(pairs[i,1,0])] > img[int(pairs[i,0,1]), int(pairs[i,0,0])]:##Double Check !\n",
    "            brief[i] = 1\n",
    "        # if first pixel value ist larger than second pixel value\n",
    "        else:\n",
    "            brief[i] = 0 \n",
    "    print(\"BRIEF Descriptor:\")\n",
    "    print(brief)\n",
    "    return(brief)"
   ]
  },
  {
   "cell_type": "markdown",
   "id": "a348499d",
   "metadata": {},
   "source": [
    "### 1.3. BRIEF Logic"
   ]
  },
  {
   "cell_type": "code",
   "execution_count": 8,
   "id": "88f0ca88",
   "metadata": {},
   "outputs": [],
   "source": [
    "def BRIEFinteract(n, defaultSquare):\n",
    "    # number of pixel pairs for BRIEF descriptor\n",
    "    numPairs = n\n",
    "    \n",
    "    # if default square \n",
    "    if(defaultSquare == True):\n",
    "        # default square requires numPairs = 4\n",
    "        numPairs = 4\n",
    "        # create square pairs\n",
    "        pairs = np.array([[[1, 1],\n",
    "                           [6, 1]],\n",
    "                          [[6, 1],\n",
    "                           [6, 6]],\n",
    "                          [[6, 6],\n",
    "                           [1, 6]],\n",
    "                          [[1, 6],\n",
    "                           [1, 1]]])\n",
    "    else:\n",
    "        # create random pixel pairs\n",
    "        pairs = PixelPairs(n)\n",
    "\n",
    "    # number of plotting images\n",
    "    img = plt.imread('BRIEF_1.png')\n",
    "    # normalization of pixel values\n",
    "    img = np.dot(img[...,:3], [0.2989, 0.5870, 0.1140])\n",
    "    # plot image\n",
    "    plt.imshow(img, cmap=plt.get_cmap('gray'), vmin=0, vmax=1)\n",
    "    for i in range(numPairs):\n",
    "        plt.arrow(pairs[i,0,0], pairs[i,0,1], (pairs[i,1,0]-pairs[i,0,0]), (pairs[i,1,1]-pairs[i,0,1]), length_includes_head=True, head_width=0.5, head_length=0.5, color = [1.0/(i%3+1),1.0/(i%4+1),1.0/(i%5+1)])\n",
    "    plt.axis(\"off\")\n",
    "    plt.show()\n",
    "    # BRIEF descriptor first image\n",
    "    b1 = BRIEF(img, pairs, numPairs)\n",
    "    \n",
    "    # number of plotting images\n",
    "    img = plt.imread('BRIEF_2.png')\n",
    "    # normalization of pixel values\n",
    "    img = np.dot(img[...,:3], [0.2989, 0.5870, 0.1140])\n",
    "    # for different BRIEF vectors (first image and second image)\n",
    "    img = np.transpose(img)\n",
    "    # plot image\n",
    "    plt.imshow(img, cmap=plt.get_cmap('gray'), vmin=0, vmax=1)\n",
    "    for i in range(numPairs):\n",
    "        plt.arrow(pairs[i,0,0], pairs[i,0,1], (pairs[i,1,0]-pairs[i,0,0]), (pairs[i,1,1]-pairs[i,0,1]), length_includes_head=True, head_width=0.5, head_length=0.5, color = [1.0/(i%3+1),1.0/(i%4+1),1.0/(i%5+1)])\n",
    "    plt.axis(\"off\")\n",
    "    plt.show()\n",
    "    # BRIEF descriptor second image\n",
    "    b2 = BRIEF(img, pairs, numPairs)\n",
    "    \n",
    "    return b1, b2"
   ]
  },
  {
   "cell_type": "code",
   "execution_count": 9,
   "id": "f86fb9ac",
   "metadata": {},
   "outputs": [
    {
     "data": {
      "application/vnd.jupyter.widget-view+json": {
       "model_id": "58458d9ecd004167b445e6f9a8c716e9",
       "version_major": 2,
       "version_minor": 0
      },
      "text/plain": [
       "interactive(children=(IntSlider(value=3, description='Dimension des BRIEF Deskriptors ', layout=Layout(height=…"
      ]
     },
     "metadata": {},
     "output_type": "display_data"
    }
   ],
   "source": [
    "style = {'description_width': 'initial'}\n",
    "layout = widgets.Layout( width='500px', height='50px')\n",
    "interact(BRIEFinteract,  n=widgets.IntSlider(min=1, max=16, step=1, value=3, description='Dimension des BRIEF Deskriptors ', layout=layout, style=style), defaultSquare=False);"
   ]
  },
  {
   "cell_type": "markdown",
   "id": "9a57a96f",
   "metadata": {},
   "source": [
    "## 2. Student Exercise - Hamming Distance<br>\n",
    "**Simplification:** Only binary vectors are given as input for function."
   ]
  },
  {
   "cell_type": "markdown",
   "id": "4fe25e6d",
   "metadata": {},
   "source": [
    "### 2.1. Compute Hamming Distance <br>\n",
    "\n",
    "**XOR:** <br>\n",
    "1 | 1 = 0 <br>\n",
    "0 | 0 = 0 <br>\n",
    "1 | 0 = 1 <br>\n",
    "0 | 1 = 1 <br>"
   ]
  },
  {
   "cell_type": "code",
   "execution_count": 2,
   "id": "e86e030d",
   "metadata": {},
   "outputs": [],
   "source": [
    "def computeHamming(descVec1, descVec2):\n",
    "    ############# TODO Students ############# \n",
    "    # container for binary Hamming Distance\n",
    "    binaryResult = []\n",
    "\n",
    "    if(len(descVec1) == len(descVec2)) :\n",
    "        for i in range(len(descVec1)):\n",
    "            # XOR == True\n",
    "            if(descVec1[i] == descVec2[i]):\n",
    "                binaryResult.append(1)\n",
    "            # XOR == False\n",
    "            else:\n",
    "                binaryResult.append(0)\n",
    "             \n",
    "        # nummerical result of BRIEF descriptor\n",
    "        scalarValue = 0\n",
    "\n",
    "        for i in binaryResult:\n",
    "            scalarValue = scalarValue + i\n",
    "\n",
    "        # return result as scalar and binary container\n",
    "        ############# TODO Students ############# \n",
    "        print(\"Binary Description BRIEF: \", binaryResult)\n",
    "        print(\"Scalar Value: \", scalarValue)\n",
    "        return scalarValue, binaryResult\n",
    "    else:\n",
    "        return None     "
   ]
  },
  {
   "cell_type": "code",
   "execution_count": 11,
   "id": "8fd43101",
   "metadata": {},
   "outputs": [
    {
     "data": {
      "image/png": "[encoded data removed]",
      "text/plain": [
       "<Figure size 432x288 with 1 Axes>"
      ]
     },
     "metadata": {
      "needs_background": "light"
     },
     "output_type": "display_data"
    },
    {
     "name": "stdout",
     "output_type": "stream",
     "text": [
      "BRIEF Descriptor:\n",
      "[0. 1. 1.]\n"
     ]
    },
    {
     "data": {
      "image/png": "[encoded data removed]",
      "text/plain": [
       "<Figure size 432x288 with 1 Axes>"
      ]
     },
     "metadata": {
      "needs_background": "light"
     },
     "output_type": "display_data"
    },
    {
     "name": "stdout",
     "output_type": "stream",
     "text": [
      "BRIEF Descriptor:\n",
      "[0. 1. 0.]\n"
     ]
    },
    {
     "data": {
      "text/plain": [
       "(0, [])"
      ]
     },
     "execution_count": 11,
     "metadata": {},
     "output_type": "execute_result"
    }
   ],
   "source": [
    "# create BRIEF descriptors for Hamming distance calculation\n",
    "r1, r2 = BRIEFinteract(3,False)\n",
    "# compute Hamming distance\n",
    "computeHamming(r1, r2)"
   ]
  },
  {
   "cell_type": "code",
   "execution_count": null,
   "id": "440760d9",
   "metadata": {},
   "outputs": [],
   "source": []
  }
 ],
 "metadata": {
  "kernelspec": {
   "display_name": "Python 3.8.8 ('base')",
   "language": "python",
   "name": "python3"
  },
  "language_info": {
   "codemirror_mode": {
    "name": "ipython",
    "version": 3
   },
   "file_extension": ".py",
   "mimetype": "text/x-python",
   "name": "python",
   "nbconvert_exporter": "python",
   "pygments_lexer": "ipython3",
   "version": "3.8.8"
  },
  "vscode": {
   "interpreter": {
    "hash": "b8ed36f8d2a86c0eb0f70e7961ab78f8f5f8260b697a01ebd32a1b2f351aacad"
   }
  }
 },
 "nbformat": 4,
 "nbformat_minor": 5
}
