{
 "cells": [
  {
   "cell_type": "markdown",
   "id": "423a84f2",
   "metadata": {},
   "source": [
    "# Exercise 08: 1D Discrete Fourier Transformation\n",
    "**Objectives of the lesson:**\n",
    "\n",
    "1. Numpy Computation 1D Discrete Fourier Transformation Pipeline\n",
    "2. Manual Computation 1D Discrete Fourier Transformation & Inverse Discrete Fourier Transformation -- Student Exercise"
   ]
  },
  {
   "cell_type": "code",
   "execution_count": 69,
   "id": "54e81d62",
   "metadata": {},
   "outputs": [],
   "source": [
    "import numpy as np"
   ]
  },
  {
   "cell_type": "markdown",
   "id": "a4286aa4",
   "metadata": {},
   "source": [
    "## 1. Numpy Discrete Fourier Transformation Pipeline"
   ]
  },
  {
   "cell_type": "markdown",
   "id": "de3e62f7",
   "metadata": {},
   "source": [
    "### 1.1 Numpy - 1D Discrete Fourier Transformation"
   ]
  },
  {
   "cell_type": "code",
   "execution_count": 70,
   "id": "3f139b23",
   "metadata": {},
   "outputs": [
    {
     "name": "stdout",
     "output_type": "stream",
     "text": [
      "Data : [4 8 0]\n",
      "Discrete Fourier Transformed Data: [12.+0.j          0.-6.92820323j  0.+6.92820323j]\n"
     ]
    }
   ],
   "source": [
    "# 1D-data for DFT-pipeline\n",
    "data = np.array([4, 8, 0])\n",
    "print(\"Data :\",data)\n",
    "# numpy computation of DFT\n",
    "dtf_data = np.fft.fft(data)\n",
    "print(\"Discrete Fourier Transformed Data:\", dtf_data)"
   ]
  },
  {
   "cell_type": "markdown",
   "id": "96fa68c6",
   "metadata": {},
   "source": [
    "### 1.2 Numpy -  1D Inverse Discrete Fourier Transformation"
   ]
  },
  {
   "cell_type": "code",
   "execution_count": 71,
   "id": "5441b5bf",
   "metadata": {},
   "outputs": [
    {
     "name": "stdout",
     "output_type": "stream",
     "text": [
      "Inverse Discrete Fourier Transfromed Data [4. 8. 0.]\n"
     ]
    }
   ],
   "source": [
    "# numpy computation of inverse DFT\n",
    "inv_dtf_data = np.fft.ifft(dtf_data)\n",
    "# use absolute values for redirecting from imaginary part\n",
    "print(\"Inverse Discrete Fourier Transfromed Data\", np.round(np.abs(inv_dtf_data), 5))"
   ]
  },
  {
   "cell_type": "markdown",
   "id": "a2b559ba",
   "metadata": {},
   "source": [
    "## 2. Manual computation DFT & IDFT\n",
    "**Student Exercise:** <br>\n",
    "Implement the given functions below DFT & IDFT and reconstruct the DFT pipeline from chapter one. Don't use any functionality from numpy.fft for this."
   ]
  },
  {
   "cell_type": "markdown",
   "id": "f3407b7f",
   "metadata": {},
   "source": [
    "### 2.1 Manual computation 1D Discrete Fourier Transformation -- Student Exercise\n",
    "**Formula DFT:** <br>\n",
    "1D DFT exercise script page 3."
   ]
  },
  {
   "cell_type": "code",
   "execution_count": 72,
   "id": "6cd0366c",
   "metadata": {},
   "outputs": [],
   "source": [
    "def DFT(values):\n",
    "    ############## Student exercise ############## \n",
    "    N = len(values)\n",
    "    x = np.arange(N)\n",
    "    k = x.reshape((N, 1))\n",
    "    e = np.exp(-2j * np.pi * k * x / N) \n",
    "    result = np.dot(e, values)\n",
    "    ############## Student exercise ############## \n",
    "    return result"
   ]
  },
  {
   "cell_type": "code",
   "execution_count": 73,
   "id": "b05c717c",
   "metadata": {},
   "outputs": [
    {
     "name": "stdout",
     "output_type": "stream",
     "text": [
      "Manual DFT: [12.+0.j     -3.+3.4641j -3.-3.4641j]\n",
      "Numpy DFT: [12.+0.j     -3.+3.4641j -3.-3.4641j]\n"
     ]
    }
   ],
   "source": [
    "# exercise values\n",
    "exercise = np.array([2, 3, 7])\n",
    "# values for IDFT in cells below\n",
    "dft_exercise = DFT(exercise)\n",
    "# student solution based on DFT(values)\n",
    "print(\"Manual DFT:\", np.round(dft_exercise,4))\n",
    "# solution to check if DFT(values) is working right\n",
    "print(\"Numpy DFT:\", np.round(np.fft.fft(exercise), 4))"
   ]
  },
  {
   "cell_type": "markdown",
   "id": "38705d51",
   "metadata": {},
   "source": [
    "### 2.2 Manual computation 1D Inverse Discrete Fourier Transformation -- Student Exercise\n",
    "**Formula IDFT:** <br>\n",
    "1D DFT exercise script page 7."
   ]
  },
  {
   "cell_type": "code",
   "execution_count": 74,
   "id": "7adce502",
   "metadata": {},
   "outputs": [],
   "source": [
    "#1D Inverse Discrete Fourier Transformation\n",
    "def IDFT(values):\n",
    "    ############## Student exercise ############## \n",
    "    N = len(values)\n",
    "    x = np.arange(N)\n",
    "    k = x.reshape((N, 1))\n",
    "    e = np.exp(2j * np.pi * k * x / N) \n",
    "    result = (1/N) * np.dot(e,values)\n",
    "    ############## Student exercise ############## \n",
    "    return result"
   ]
  },
  {
   "cell_type": "code",
   "execution_count": 75,
   "id": "ac802861",
   "metadata": {},
   "outputs": [
    {
     "name": "stdout",
     "output_type": "stream",
     "text": [
      "[2. 3. 7.]\n",
      "[2. 3. 7.]\n"
     ]
    }
   ],
   "source": [
    "# Compute inverse DFT of exercise values with IDFT(values)\n",
    "print(np.round(np.abs(IDFT(dft_exercise)), 4))\n",
    "# solution to check if IDFT(values) is working right\n",
    "print(np.round(np.abs(np.fft.ifft(dft_exercise)), 4))"
   ]
  }
 ],
 "metadata": {
  "kernelspec": {
   "display_name": "Python 3",
   "language": "python",
   "name": "python3"
  },
  "language_info": {
   "codemirror_mode": {
    "name": "ipython",
    "version": 3
   },
   "file_extension": ".py",
   "mimetype": "text/x-python",
   "name": "python",
   "nbconvert_exporter": "python",
   "pygments_lexer": "ipython3",
   "version": "3.8.8"
  }
 },
 "nbformat": 4,
 "nbformat_minor": 5
}
