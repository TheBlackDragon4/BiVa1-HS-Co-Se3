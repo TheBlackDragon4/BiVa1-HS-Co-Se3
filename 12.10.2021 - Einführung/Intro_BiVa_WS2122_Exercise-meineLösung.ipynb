{
 "cells": [
  {
   "cell_type": "markdown",
   "metadata": {},
   "source": [
    "# Introduction Jupyter/ Python/ OpenCV/ Numpy\n",
    "**Objectives of the lesson:**\n",
    "\n",
    "1. Introduction Basics Python\n",
    "2. Introduction Basics Vector/ Matrix Calculation\n",
    "3. Introduction Basics Image Processing"
   ]
  },
  {
   "cell_type": "markdown",
   "metadata": {},
   "source": [
    "## Introduction Jupyter Notebook\n",
    "\n",
    "**Shortcuts:**\n",
    "- SHIFT + ENTER (execute cell)\n",
    "- Double tap D (delete blue marked cell)\n",
    "- Up & Down (navigate through notebook)"
   ]
  },
  {
   "cell_type": "markdown",
   "metadata": {},
   "source": [
    "## 1. Introduction Basics Python"
   ]
  },
  {
   "cell_type": "code",
   "execution_count": 1,
   "metadata": {},
   "outputs": [
    {
     "name": "stdout",
     "output_type": "stream",
     "text": [
      "Python 3.8.8\n"
     ]
    }
   ],
   "source": [
    "# Check Python Version installed on Machine (e.g. Server or Laptop)\n",
    "!python --version"
   ]
  },
  {
   "cell_type": "code",
   "execution_count": 2,
   "metadata": {},
   "outputs": [
    {
     "name": "stdout",
     "output_type": "stream",
     "text": [
      "WS 21/22\n"
     ]
    }
   ],
   "source": [
    "# System output inside cmd \n",
    "print(\"WS 21/22\")"
   ]
  },
  {
   "cell_type": "code",
   "execution_count": 3,
   "metadata": {},
   "outputs": [
    {
     "name": "stdout",
     "output_type": "stream",
     "text": [
      "True\n",
      "True\n",
      "True\n",
      "True\n"
     ]
    }
   ],
   "source": [
    "# Mathematical operations - no explicit type specification necessary\n",
    "i = 1\n",
    "f = 1.0\n",
    "b = True\n",
    "s = \"BiVe/ CoVis 21/22\"\n",
    "\n",
    "#Check datatype of variables\n",
    "print(isinstance(i, int))\n",
    "print(isinstance(f, float))\n",
    "print(isinstance(b, bool))\n",
    "print(isinstance(s, str))"
   ]
  },
  {
   "cell_type": "code",
   "execution_count": 4,
   "metadata": {},
   "outputs": [
    {
     "name": "stdout",
     "output_type": "stream",
     "text": [
      "[(1, 1), (2, 2)]\n",
      "Sub-container: (1, 1)\n",
      "Sub-container: (2, 2)\n",
      "Array has valued asigned\n"
     ]
    }
   ],
   "source": [
    "#define array \n",
    "int_array = [(1,1), (2,2)]\n",
    "\n",
    "#print array\n",
    "print(int_array)\n",
    "\n",
    "#for-loop - iterate through array a\n",
    "for i in int_array:\n",
    "    print(\"Sub-container: \" + str(i))\n",
    "\n",
    "#if statement - check if int_array has value assigned\n",
    "if(int_array != None):\n",
    "    print(\"Array has valued asigned\")"
   ]
  },
  {
   "cell_type": "code",
   "execution_count": 5,
   "metadata": {},
   "outputs": [],
   "source": [
    "# define a function - returns info about lecture as string\n",
    "def lecture_info(i):\n",
    "    return \"This lecture is called \" + i + \" WS 21/22\"  "
   ]
  },
  {
   "cell_type": "code",
   "execution_count": 6,
   "metadata": {},
   "outputs": [
    {
     "name": "stdout",
     "output_type": "stream",
     "text": [
      "This lecture is called Computer Vision WS 21/22\n"
     ]
    }
   ],
   "source": [
    "name = \"Computer Vision\"\n",
    "# call function lecture_info\n",
    "print(lecture_info(name))"
   ]
  },
  {
   "cell_type": "markdown",
   "metadata": {},
   "source": [
    "## 2. Introduction Basics Vector/ Matrix Calculation"
   ]
  },
  {
   "cell_type": "code",
   "execution_count": 7,
   "metadata": {},
   "outputs": [],
   "source": [
    "#import numpy library to get useful & efficent calculation tools\n",
    "import numpy "
   ]
  },
  {
   "cell_type": "markdown",
   "metadata": {},
   "source": [
    "### 2.1 Vectors"
   ]
  },
  {
   "cell_type": "code",
   "execution_count": 8,
   "metadata": {},
   "outputs": [
    {
     "name": "stdout",
     "output_type": "stream",
     "text": [
      "\n",
      "Horizontal: \n",
      "[1 2 3]\n",
      "\n",
      "Vertical: \n",
      "[[1]\n",
      " [2]\n",
      " [3]]\n",
      "\n",
      "Transpose vertical vector:\n",
      "[[1 2 3]]\n",
      "\n",
      "Vector calculation addition: \n",
      "[4 5 6]\n",
      "\n",
      "Vector calculation subtraction: \n",
      "[-2 -1  0]\n",
      "\n",
      "Vector calculation multiplication: \n",
      "[3 6 9]\n",
      "\n",
      "Vector calculation division: \n",
      "[0.33333333 0.66666667 1.        ]\n",
      "\n",
      "Dot product: \n",
      "10\n"
     ]
    }
   ],
   "source": [
    "#create vector with numpy - horizontal orientation\n",
    "vec_h = numpy.array([1, 2, 3])\n",
    "\n",
    "#create vector with numpy - vertical orientation\n",
    "vec_v = numpy.array([[1], [2], [3]])\n",
    "\n",
    "#print vectors horizontal\n",
    "print(\"\\nHorizontal: \\n\" + str(vec_h))\n",
    "\n",
    "#print vector vertical\n",
    "print(\"\\nVertical: \\n\" + str(vec_v))\n",
    "\n",
    "#transpose vector\n",
    "print(\"\\nTranspose vertical vector:\\n\" + str(vec_v.transpose()))\n",
    "\n",
    "#vector calculations\n",
    "print(\"\\nVector calculation addition: \\n\" + str(vec_h + 3))\n",
    "print(\"\\nVector calculation subtraction: \\n\" + str(vec_h - 3))\n",
    "print(\"\\nVector calculation multiplication: \\n\" + str(vec_h * 3))\n",
    "print(\"\\nVector calculation division: \\n\" + str(vec_h / 3))\n",
    "\n",
    "#calculate dot product\n",
    "vec_d = numpy.array([3, 2, 1])\n",
    "print(\"\\nDot product: \\n\" + str(numpy.dot(vec_d, vec_h)))"
   ]
  },
  {
   "cell_type": "markdown",
   "metadata": {},
   "source": [
    "### 2.2 Vector Exercises"
   ]
  },
  {
   "cell_type": "markdown",
   "metadata": {},
   "source": [
    "**Exercise 2.2.1: Implement the function even_odd(vector_50)  to check whether a vector of N:1-50 numbers contains more even or odd values. Return your result as string. (Difficulty 1)**"
   ]
  },
  {
   "cell_type": "code",
   "execution_count": 9,
   "metadata": {},
   "outputs": [],
   "source": [
    "def even_odd(vector_50):\n",
    "    counterUng = 0\n",
    "    counterGer = 0\n",
    "    \n",
    "    for i in vector_50:\n",
    "        if(i % 2 != 0):\n",
    "            counterUng+=1\n",
    "        else:\n",
    "            counterGer+=1\n",
    "    \n",
    "    if(counterGer > counterUng):\n",
    "        return str(\"Gerade: \" + str(counterGer))\n",
    "    else:\n",
    "        return str(\"Ungerade: \" + str(counterUng))\n",
    "\n",
    "    #return \"Return !\""
   ]
  },
  {
   "cell_type": "code",
   "execution_count": 10,
   "metadata": {
    "tags": []
   },
   "outputs": [
    {
     "name": "stdout",
     "output_type": "stream",
     "text": [
      "Ungerade: 26\n"
     ]
    }
   ],
   "source": [
    "#Create random vector with 50 integer values in the range between 1 to 50\n",
    "vector_50 = numpy.random.randint(1,50, size=(50,1))\n",
    "#Call function from exercise 2.1.1 to check the results\n",
    "print(even_odd(vector_50))"
   ]
  },
  {
   "cell_type": "markdown",
   "metadata": {},
   "source": [
    "### 2.3 Matrices"
   ]
  },
  {
   "cell_type": "code",
   "execution_count": 11,
   "metadata": {},
   "outputs": [
    {
     "name": "stdout",
     "output_type": "stream",
     "text": [
      "\n",
      "Zeros Matrix:\n",
      "[[0 0]\n",
      " [0 0]\n",
      " [0 0]]\n",
      "\n",
      "Ones Matrix:\n",
      "[[1. 1. 1.]\n",
      " [1. 1. 1.]\n",
      " [1. 1. 1.]]\n",
      "\n",
      "Random Matrix:\n",
      "[[0.12214314 0.35374741 0.82315972]\n",
      " [0.60428092 0.50652228 0.73880602]\n",
      " [0.44068621 0.2640901  0.26091058]]\n",
      "\n",
      "Matrix 3x3 addition:\n",
      "[[1.12214314 1.35374741 1.82315972]\n",
      " [1.60428092 1.50652228 1.73880602]\n",
      " [1.44068621 1.2640901  1.26091058]]\n",
      "\n",
      "Matrix 3x3 subtraction:\n",
      "[[0.87785686 0.64625259 0.17684028]\n",
      " [0.39571908 0.49347772 0.26119398]\n",
      " [0.55931379 0.7359099  0.73908942]]\n",
      "\n",
      "Matrix 3x3 division:\n",
      "[[8.18711536 2.82687583 1.21483106]\n",
      " [1.65485947 1.97424682 1.35353527]\n",
      " [2.26918834 3.78658641 3.83273073]]\n",
      "\n",
      "Matrix 3x3 multiplication:\n",
      "[[0.12214314 0.35374741 0.82315972]\n",
      " [0.60428092 0.50652228 0.73880602]\n",
      " [0.44068621 0.2640901  0.26091058]]\n",
      "\n",
      "Access all rows from mat_zeros: \n",
      "[[0 0]\n",
      " [0 0]\n",
      " [0 0]]\n",
      "\n",
      "Access specific rows from mat_zeros: \n",
      "[[0 0]\n",
      " [0 0]]\n",
      "\n",
      "Access specific columns from mat_zeros: \n",
      "[[0 0]\n",
      " [0 0]\n",
      " [0 0]]\n",
      "\n",
      "Access last element from mat_rand: \n",
      "0.26091058087237584\n",
      "\n",
      "Access shape attribute from mat_zeros: \n",
      "(3, 2)\n",
      "\n",
      "Calculate determinant of mat_ones:\n",
      "0.0\n",
      "\n",
      "Calculate inverse of mat_rand:\n",
      "[[  94.14456766 -187.06769268  232.68784469]\n",
      " [-251.11215737  494.82191439 -608.91357235]\n",
      " [  95.15912797 -184.88870326  227.14956536]]\n",
      "\n",
      "Calculte rank of matrix mat_rand_int:\n",
      "5\n"
     ]
    }
   ],
   "source": [
    "#create matrices with numpy\n",
    "mat_zeros = numpy.zeros((3,2), dtype=int)\n",
    "mat_ones = numpy.ones((3,3), dtype=float)\n",
    "mat_rand = numpy.random.rand(3, 3)\n",
    "mat_rand_int = numpy.random.randint(1, 10, size=(5,5))\n",
    "\n",
    "print(\"\\nZeros Matrix:\\n\" + str(mat_zeros))\n",
    "print(\"\\nOnes Matrix:\\n\" + str(mat_ones)) \n",
    "print(\"\\nRandom Matrix:\\n\" + str(mat_rand))\n",
    "\n",
    "#matrix calculations\n",
    "print(\"\\nMatrix 3x3 addition:\\n\" + str(mat_ones + mat_rand))\n",
    "print(\"\\nMatrix 3x3 subtraction:\\n\" + str(mat_ones - mat_rand))\n",
    "print(\"\\nMatrix 3x3 division:\\n\" + str(mat_ones / mat_rand))\n",
    "print(\"\\nMatrix 3x3 multiplication:\\n\" + str(mat_ones * mat_rand))\n",
    "\n",
    "#access matrices\n",
    "print(\"\\nAccess all rows from mat_zeros: \\n\" + str(mat_zeros[0:]))\n",
    "print(\"\\nAccess specific rows from mat_zeros: \\n\" + str(mat_zeros[0:2]))\n",
    "print(\"\\nAccess specific columns from mat_zeros: \\n\" + str(mat_zeros[0:,[0,1]]))\n",
    "print(\"\\nAccess last element from mat_rand: \\n\" + str(mat_rand[2][2]))\n",
    "print(\"\\nAccess shape attribute from mat_zeros: \\n\" + str(mat_zeros.shape))\n",
    "\n",
    "#matrix operations\n",
    "print(\"\\nCalculate determinant of mat_ones:\\n\" + str(numpy.linalg.det(mat_ones)))\n",
    "print(\"\\nCalculate inverse of mat_rand:\\n\" + str(numpy.linalg.inv(mat_rand)))\n",
    "print(\"\\nCalculte rank of matrix mat_rand_int:\\n\" + str(numpy.linalg.matrix_rank(mat_rand_int)))"
   ]
  },
  {
   "cell_type": "markdown",
   "metadata": {},
   "source": [
    "### 2.4 Matrix exercises"
   ]
  },
  {
   "cell_type": "markdown",
   "metadata": {},
   "source": [
    "**Exercise 2.4.1: Implement the function mat_det(mat) to calculate the determinat of a 2x2 Matrix. Return your result as integer value. Don't use numpy for this. (Difficulty 1)**"
   ]
  },
  {
   "cell_type": "code",
   "execution_count": 12,
   "metadata": {},
   "outputs": [],
   "source": [
    "def mat_det(mat):\n",
    "    matrixberechnung = (mat[0,0] * mat[1,1]) - (mat[1,0] * mat[0,1])\n",
    "    return \"Matrixergebnis: \" + str(abs(matrixberechnung))"
   ]
  },
  {
   "cell_type": "code",
   "execution_count": 13,
   "metadata": {},
   "outputs": [
    {
     "name": "stdout",
     "output_type": "stream",
     "text": [
      "Matrixergebnis: 156\n"
     ]
    }
   ],
   "source": [
    "#Create random matrix with integer values in the range between 1 to 50. Shape 2x2\n",
    "mat_2x2 = numpy.random.randint(1, 50, (2,2))\n",
    "#Call function from exercise 2.2.1 to check the results\n",
    "print(mat_det(mat_2x2))"
   ]
  },
  {
   "cell_type": "markdown",
   "metadata": {},
   "source": [
    "**Exercise 2.4.2: Implement the function calc_square_diag(mat) to add up the diagonal of a matrix leftwise. Return your result as integer value. (Difficulty 2)**"
   ]
  },
  {
   "cell_type": "code",
   "execution_count": 14,
   "metadata": {},
   "outputs": [],
   "source": [
    "#e.g. leftwise_result = a + a + a\n",
    "\n",
    "# a b b #\n",
    "# b a b #\n",
    "# b b a #"
   ]
  },
  {
   "cell_type": "code",
   "execution_count": 15,
   "metadata": {
    "tags": []
   },
   "outputs": [],
   "source": [
    "def calc_square_diag(mat):\n",
    "    rang = numpy.linalg.matrix_rank(mat)\n",
    "    rang -= 1\n",
    "    counter = 0\n",
    "    summe = 0\n",
    "    \n",
    "    while(counter != rang):\n",
    "        summe+=mat[counter,counter]  \n",
    "        counter+=1\n",
    "       \n",
    "    return summe"
   ]
  },
  {
   "cell_type": "code",
   "execution_count": 16,
   "metadata": {
    "scrolled": true
   },
   "outputs": [
    {
     "name": "stdout",
     "output_type": "stream",
     "text": [
      "36\n"
     ]
    }
   ],
   "source": [
    "#Create random matrix with integer values in the range between 1 to 50. Shape 10x10\n",
    "diag_mat_cal = numpy.random.randint(1,9, (10,10))\n",
    "#Call function from exercise 2.2.2 to check the results\n",
    "print(calc_square_diag(diag_mat_cal))"
   ]
  },
  {
   "cell_type": "markdown",
   "metadata": {},
   "source": [
    "**Exercise 2.4.3: Implement the functions mirror_horizontal(mat) and mirror_vertical(mat) to mirror matrices around the specific axis. Each function should return the edited matrix. (Difficulty 3)**"
   ]
  },
  {
   "cell_type": "code",
   "execution_count": 17,
   "metadata": {},
   "outputs": [],
   "source": [
    "# vertical:    a b c -> c b a\n",
    "\n",
    "# horizontal:  a a a -> b b b\n",
    "#              b b b    a a a"
   ]
  },
  {
   "cell_type": "code",
   "execution_count": 18,
   "metadata": {},
   "outputs": [],
   "source": [
    "def mirror_vertical(mat):\n",
    "    return mat"
   ]
  },
  {
   "cell_type": "code",
   "execution_count": 19,
   "metadata": {},
   "outputs": [],
   "source": [
    "def mirror_horizontal(mat):\n",
    "    return mat"
   ]
  },
  {
   "cell_type": "code",
   "execution_count": 20,
   "metadata": {},
   "outputs": [
    {
     "name": "stdout",
     "output_type": "stream",
     "text": [
      "[[3 3]\n",
      " [2 3]]\n",
      "[[6 6]\n",
      " [8 1]]\n"
     ]
    }
   ],
   "source": [
    "#Create random matrix with integer values in the range between 1 to 10. Shape 2x2\n",
    "mat_mir_h = numpy.random.randint(1,10, size=(2,2))\n",
    "#Call function from exercise 2.2.3 to check the results\n",
    "print(mirror_horizontal(mat_mir_h))\n",
    "\n",
    "#Create random matrix with integer values in the range between 1 to 10. Shape 2x2\n",
    "mat_mir_v = numpy.random.randint(1,10, size=(2,2))\n",
    "#Call function from exercise 2.2.3 to check the results\n",
    "print(mirror_vertical(mat_mir_v))"
   ]
  },
  {
   "cell_type": "markdown",
   "metadata": {},
   "source": [
    "## 3. Introduction Basics Image Processing"
   ]
  },
  {
   "cell_type": "code",
   "execution_count": 21,
   "metadata": {},
   "outputs": [
    {
     "ename": "ModuleNotFoundError",
     "evalue": "No module named 'cv2'",
     "output_type": "error",
     "traceback": [
      "\u001b[1;31m---------------------------------------------------------------------------\u001b[0m",
      "\u001b[1;31mModuleNotFoundError\u001b[0m                       Traceback (most recent call last)",
      "\u001b[1;32m<ipython-input-21-d46cc38b600f>\u001b[0m in \u001b[0;36m<module>\u001b[1;34m\u001b[0m\n\u001b[0;32m      1\u001b[0m \u001b[1;31m#import pyplot & OpenCV libraries\u001b[0m\u001b[1;33m\u001b[0m\u001b[1;33m\u001b[0m\u001b[1;33m\u001b[0m\u001b[0m\n\u001b[0;32m      2\u001b[0m \u001b[1;32mimport\u001b[0m \u001b[0mmatplotlib\u001b[0m\u001b[1;33m.\u001b[0m\u001b[0mpyplot\u001b[0m \u001b[1;32mas\u001b[0m \u001b[0mplt\u001b[0m\u001b[1;33m\u001b[0m\u001b[1;33m\u001b[0m\u001b[0m\n\u001b[1;32m----> 3\u001b[1;33m \u001b[1;32mimport\u001b[0m \u001b[0mcv2\u001b[0m\u001b[1;33m\u001b[0m\u001b[1;33m\u001b[0m\u001b[0m\n\u001b[0m",
      "\u001b[1;31mModuleNotFoundError\u001b[0m: No module named 'cv2'"
     ]
    }
   ],
   "source": [
    "#import pyplot & OpenCV libraries\n",
    "import matplotlib.pyplot as plt\n",
    "import cv2"
   ]
  },
  {
   "cell_type": "code",
   "execution_count": null,
   "metadata": {},
   "outputs": [],
   "source": [
    "#important: C:\\Users\\test\\test\\ComputerVision - on Windows change backslash to frontslash\n",
    "#If the current image is in the same folder as Jupyter Notebook the image name should be enough to load the file correctly\n",
    "\n",
    "#Here, we have an image from the repository, you can try using images stored locally.\n",
    "img = cv2.imread('image1.jpg')\n",
    "\n",
    "#show part of image container\n",
    "print(\"Raw image values:\\n\" + str(img[0:1]))\n",
    "\n",
    "print(\"\\nGBR-image:\")\n",
    "plt.imshow(img)\n",
    "plt.show()\n",
    "\n",
    "#convert BGR color space to RGB color space image\n",
    "print(\"\\nRGB-image:\")\n",
    "rgb_img = cv2.cvtColor(img, cv2.COLOR_BGR2RGB)\n",
    "plt.imshow(rgb_img)\n",
    "\n",
    "#To save image locally\n",
    "#plt.savefig(\"rbg_img_test\")\n",
    "#plt.show() is inside a Jupyter Notebook not required . imgplot = plt.imshow(img) will print the image correctly.\n",
    "#instead using Python from CMD plt.show() is neccessary to print the image correctly\n",
    "#also to seperate multiple images plt.show() is neccessary\n",
    "plt.show()"
   ]
  },
  {
   "cell_type": "markdown",
   "metadata": {},
   "source": [
    "### 3.2 Image Processing Exercises"
   ]
  },
  {
   "cell_type": "markdown",
   "metadata": {},
   "source": [
    "**Exercise 3.2.1: Apply Canny filter to the pre-loaded image rgb_img from cell above between the range 100 to 200. Hint: use a OpenCV function for this.(Difficulty 1)**"
   ]
  },
  {
   "cell_type": "code",
   "execution_count": null,
   "metadata": {},
   "outputs": [],
   "source": [
    "print(\"\\nCanny filter:\")\n",
    "# Uncomment the following line after applying the canny filter.\n",
    "# plt.imshow(image_edge_canny)"
   ]
  },
  {
   "cell_type": "markdown",
   "metadata": {},
   "source": [
    "**Exercise 3.2.2: Apply greyscale filter to an loaded image. (Difficulty 3)**"
   ]
  },
  {
   "cell_type": "code",
   "execution_count": null,
   "metadata": {},
   "outputs": [],
   "source": [
    "bgr_img = cv2.imread('image2.jpg')\n",
    "plt.imshow(bgr_img)\n",
    "plt.show()\n",
    "\n",
    "print(\"\\nGrey-image:\")"
   ]
  }
 ],
 "metadata": {
  "kernelspec": {
   "display_name": "Python 3.8.8 ('base')",
   "language": "python",
   "name": "python3"
  },
  "language_info": {
   "codemirror_mode": {
    "name": "ipython",
    "version": 3
   },
   "file_extension": ".py",
   "mimetype": "text/x-python",
   "name": "python",
   "nbconvert_exporter": "python",
   "pygments_lexer": "ipython3",
   "version": "3.8.8"
  },
  "vscode": {
   "interpreter": {
    "hash": "b8ed36f8d2a86c0eb0f70e7961ab78f8f5f8260b697a01ebd32a1b2f351aacad"
   }
  }
 },
 "nbformat": 4,
 "nbformat_minor": 5
}
