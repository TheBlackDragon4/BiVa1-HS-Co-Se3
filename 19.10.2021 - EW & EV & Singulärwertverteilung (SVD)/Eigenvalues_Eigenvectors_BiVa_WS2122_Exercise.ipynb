{
 "cells": [
  {
   "cell_type": "markdown",
   "id": "5ad55306",
   "metadata": {},
   "source": [
    "# Exercise 02:  Power Iteration/ Rayleigh Quotient/ Hotelling Deflation\n",
    "**Objectives of the lesson:**\n",
    "\n",
    "1. Introduction Power Iteration\n",
    "2. Introduction Rayleigh Quotient\n",
    "3. Introduction Hotelling Deflation\n",
    "4. Interaction between all three functions"
   ]
  },
  {
   "cell_type": "code",
   "execution_count": 6,
   "id": "06c39511",
   "metadata": {},
   "outputs": [],
   "source": [
    "#import numpy to get need mathematical tools, np is an alias to numpy\n",
    "import numpy as np"
   ]
  },
  {
   "cell_type": "markdown",
   "id": "b8337ba9",
   "metadata": {},
   "source": [
    "## 1. Introduction Power Iteration\n",
    "**Purpose: Calculate largest Eigenvector due to convergence.**<br>\n",
    "**The Power Iteration Input:** b-th A Matrix form Ax=λx, number of iterations\n",
    "\n",
    "<br>\n",
    " b_k1:<br><br>\n",
    "        A dot b_k<br>\n",
    "     --------------- <br>\n",
    "     || A dot b_k ||<br>\n"
   ]
  },
  {
   "cell_type": "code",
   "execution_count": 7,
   "id": "5fe298cc",
   "metadata": {},
   "outputs": [],
   "source": [
    "def power_iteration(A, iterations):\n",
    "    # b_k is random vector with row-size of A. This vector will converge against the largest Eigenvector of given data matrix\n",
    "    b_k = np.ones(A.shape[1])\n",
    "    \n",
    "    # i is the actual iteration until convergence of the eigenvector is reached\n",
    "    for i in range(iterations):\n",
    "        # dividend of b_ki\n",
    "        b_k1_dividend = np.dot(A, b_k) \n",
    "\n",
    "        # divisor of b_ki - for this implementation calculate norm not max \n",
    "        b_k1_divisor = np.linalg.norm(b_k1_dividend)\n",
    "\n",
    "        # combine dividend and divisor to complete the power iteration function\n",
    "        b_k = b_k1_dividend / b_k1_divisor\n",
    "\n",
    "    return b_k"
   ]
  },
  {
   "cell_type": "markdown",
   "id": "cf4b21e2",
   "metadata": {},
   "source": [
    "## 2. Introduction Rayleigh Quotient\n",
    "**Purpose: Calculate Eigenvalue out of given Eigenvector from Power Iteration.** <br>\n",
    "\n",
    "**Rayleigh Quotient Input:** b-th A Matrix form Ax=λx, b-th Eigenvector from Power Iteration\n",
    "\n",
    "<br>\n",
    "R(A, b):<br><br>\n",
    "    b' dot A dot b<br>\n",
    "    ----------------<br>\n",
    "    b' dot b<br>\n"
   ]
  },
  {
   "cell_type": "code",
   "execution_count": 8,
   "id": "0b312848",
   "metadata": {},
   "outputs": [],
   "source": [
    "def rayleigh_quotient(A, b):\n",
    "    # dividend of R(A, b)\n",
    "    ray_dividend = np.dot(b.transpose(), np.dot(A,b))\n",
    "    # divisor of R(A, b)\n",
    "    ray_divisor = np.dot(b.transpose(),ray_dividend)\n",
    "    \n",
    "    return  ray_dividend / ray_divisor"
   ]
  },
  {
   "cell_type": "code",
   "execution_count": 9,
   "id": "9e71d90e",
   "metadata": {
    "scrolled": true
   },
   "outputs": [],
   "source": [
    "# symmetric and diagonizable matrix\n",
    "matrix = np.array([ [-1,  -3, -1, 2],\n",
    "                    [-3,   5, 3,  3],\n",
    "                    [-1,   3,  1, 1],\n",
    "                    [2,   3,  1, 3]])\n"
   ]
  },
  {
   "cell_type": "markdown",
   "id": "c9da9ec7",
   "metadata": {},
   "source": [
    "### 2.1 First iteration step without Hotelling Deflation\n",
    "**Why is the Eigenvector above negative?: Ax=λx is equal to  A * (-1) * x= λ * (-1) * x**"
   ]
  },
  {
   "cell_type": "code",
   "execution_count": 10,
   "id": "de433d2c",
   "metadata": {},
   "outputs": [
    {
     "name": "stdout",
     "output_type": "stream",
     "text": [
      "Eigenvalue:\n",
      "[-4.988  1.252  2.578  2.418]\n",
      "Eigenvector:\n",
      "[-0.2    0.799  0.388  0.414]\n"
     ]
    }
   ],
   "source": [
    "# first power iteration call\n",
    "eig_vec = power_iteration(matrix, 100)\n",
    "# first rayleigh quotient call\n",
    "eig_val = rayleigh_quotient(matrix, eig_vec)\n",
    "\n",
    "#results\n",
    "print(\"Eigenvalue:\\n\" + str(np.round(eig_val, 3)))\n",
    "print(\"Eigenvector:\\n\" + str(np.round(eig_vec, 3)))"
   ]
  },
  {
   "cell_type": "markdown",
   "id": "822f0f62",
   "metadata": {},
   "source": [
    "## 3. Introduction Hotelling Deflation\n",
    "\n",
    "**Purpose: Update given matrix to calculate b-largest ||Eigenvector|| with Power Iteration.** <br>\n",
    "\n",
    "**Hotelling Deflation Input:** (b-1)-th matrix computation, b-th Eigenvalue, b-th Eigenvector\n"
   ]
  },
  {
   "cell_type": "code",
   "execution_count": 11,
   "id": "0588b75e",
   "metadata": {},
   "outputs": [],
   "source": [
    "def hotelling_deflation(matrix, val, vec):\n",
    "    #convert eigenvector to transposable matrix-format\n",
    "    hd_vec = np.matrix(vec)\n",
    "    \n",
    "    xi = hd_vec / (np.square(np.linalg.norm(hd_vec, 2)))\n",
    "    \n",
    "    #vector is vertical by default so transpose has to switch from formula\n",
    "    subtract_mat = val * np.transpose(hd_vec) * xi\n",
    "    \n",
    "    #formula ressource: http://macs.citadel.edu/chenm/344.dir/08.dir/lect4_2.pdf\n",
    "    return np.array(matrix - subtract_mat)"
   ]
  },
  {
   "cell_type": "markdown",
   "id": "24cc5169",
   "metadata": {},
   "source": [
    "## 4. Interaction between all three functions"
   ]
  },
  {
   "cell_type": "markdown",
   "id": "a54c2b54",
   "metadata": {},
   "source": [
    "### 4.1 Explicit computation steps"
   ]
  },
  {
   "cell_type": "code",
   "execution_count": 12,
   "id": "b4f57b7a",
   "metadata": {},
   "outputs": [
    {
     "name": "stdout",
     "output_type": "stream",
     "text": [
      "Eigenvalue:\n",
      "[  1.261   2.332 -84.277  -2.311]\n",
      "Eigenvector:\n",
      "[ 0.793  0.429 -0.012 -0.433]\n"
     ]
    }
   ],
   "source": [
    "#first hotelling deflation call\n",
    "matrix2 = hotelling_deflation(matrix, eig_val, eig_vec)\n",
    "\n",
    "# second power iteration call\n",
    "eig_vec = power_iteration(matrix2, 100)\n",
    "# second rayleigh quotient call\n",
    "eig_val = rayleigh_quotient(matrix2, eig_vec)\n",
    "\n",
    "#results\n",
    "print(\"Eigenvalue:\\n\" + str(np.round(eig_val, 3)))\n",
    "print(\"Eigenvector:\\n\" + str(np.round(eig_vec, 3)))"
   ]
  },
  {
   "cell_type": "code",
   "execution_count": 13,
   "id": "5a4fbf85",
   "metadata": {},
   "outputs": [
    {
     "name": "stdout",
     "output_type": "stream",
     "text": [
      "Eigenvalue:\n",
      "[1.244 2.521 2.334 8.964]\n",
      "Eigenvector:\n",
      "[0.804 0.397 0.428 0.112]\n"
     ]
    }
   ],
   "source": [
    "#second hotelling deflation call\n",
    "matrix3 = hotelling_deflation(matrix2, eig_val, eig_vec)\n",
    "\n",
    "# third power iteration call\n",
    "eig_vec = power_iteration(matrix3, 100)\n",
    "# third rayleigh quotient call\n",
    "eig_val = rayleigh_quotient(matrix3, eig_vec)\n",
    "\n",
    "#results\n",
    "print(\"Eigenvalue:\\n\" + str(np.round(eig_val, 3)))\n",
    "print(\"Eigenvector:\\n\" + str(np.round(eig_vec, 3)))"
   ]
  },
  {
   "cell_type": "code",
   "execution_count": 14,
   "id": "80478e3d",
   "metadata": {},
   "outputs": [
    {
     "name": "stdout",
     "output_type": "stream",
     "text": [
      "Eigenvalue:\n",
      "[1.414 2.394 2.056 3.357]\n",
      "Eigenvector:\n",
      "[0.707 0.418 0.486 0.298]\n"
     ]
    }
   ],
   "source": [
    "#third hotelling deflation call\n",
    "matrix4 = hotelling_deflation(matrix3, eig_val, eig_vec)\n",
    "\n",
    "# fourth power iteration call\n",
    "eig_vec = power_iteration(matrix4, 100)\n",
    "# fourth rayleigh quotient call\n",
    "eig_val = rayleigh_quotient(matrix4, eig_vec)\n",
    "\n",
    "#results\n",
    "print(\"Eigenvalue:\\n\" + str(np.round(eig_val, 3)))\n",
    "print(\"Eigenvector:\\n\" + str(np.round(eig_vec, 3)))"
   ]
  },
  {
   "cell_type": "markdown",
   "id": "553feb26",
   "metadata": {},
   "source": [
    "### 4.2 Comparision of results with Numpy"
   ]
  },
  {
   "cell_type": "code",
   "execution_count": 15,
   "id": "e8510e40",
   "metadata": {},
   "outputs": [
    {
     "name": "stdout",
     "output_type": "stream",
     "text": [
      "\n",
      "Eigenvalues :\n",
      "[ 8.763 -3.675  3.389 -0.477]\n",
      "\n",
      "Eigenvector :\n",
      "[[ 0.2   -0.796 -0.541 -0.186]\n",
      " [-0.799 -0.428  0.206  0.369]\n",
      " [-0.388  0.013  0.15  -0.909]\n",
      " [-0.414  0.429 -0.802  0.05 ]]\n"
     ]
    }
   ],
   "source": [
    "# computation of Eigenvalues and Eigenvectors with numpy.linalg.eig\n",
    "E_values, E_vector = np.linalg.eig(matrix)\n",
    "print(\"\\nEigenvalues :\\n\" + str(np.round(E_values, 3)))\n",
    "print(\"\\nEigenvector :\\n\" + str(np.round(E_vector,3)))"
   ]
  },
  {
   "cell_type": "markdown",
   "id": "266c6710",
   "metadata": {},
   "source": [
    "**Result: |λ1|> |λ2|> ...> |λn|, with corresponding Eigenvectors**"
   ]
  },
  {
   "cell_type": "code",
   "execution_count": null,
   "id": "eeaa9a70",
   "metadata": {},
   "outputs": [],
   "source": []
  }
 ],
 "metadata": {
  "kernelspec": {
   "display_name": "Python 3.8.8 ('base')",
   "language": "python",
   "name": "python3"
  },
  "language_info": {
   "codemirror_mode": {
    "name": "ipython",
    "version": 3
   },
   "file_extension": ".py",
   "mimetype": "text/x-python",
   "name": "python",
   "nbconvert_exporter": "python",
   "pygments_lexer": "ipython3",
   "version": "3.8.8"
  },
  "vscode": {
   "interpreter": {
    "hash": "b8ed36f8d2a86c0eb0f70e7961ab78f8f5f8260b697a01ebd32a1b2f351aacad"
   }
  }
 },
 "nbformat": 4,
 "nbformat_minor": 5
}
