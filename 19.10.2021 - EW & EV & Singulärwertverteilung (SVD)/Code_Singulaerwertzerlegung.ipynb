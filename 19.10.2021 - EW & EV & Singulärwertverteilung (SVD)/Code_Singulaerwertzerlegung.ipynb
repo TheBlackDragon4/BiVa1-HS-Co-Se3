{
 "cells": [
  {
   "cell_type": "markdown",
   "metadata": {},
   "source": [
    "<h2>Code-Beispiel: Singulärwertzerlegung berechnen</h2>\n",
    "<font size=\"3\" face=\"Verdana\">\n",
    "<p style=\"text-align:justify\">Im folgenden befindet sich eine Implementierung der Singulärwertzerlegung. Im zweiten Code-Block kann die Eingabematrix geändert und die dazugehörige Singulärwertzerlegung berechnet werden.</p>\n",
    "<p style=\"text-align:justify\">Dazu muss jedoch zuerst auch in den ersten Block geklickt werden und dieser durch drücken der \"Run\" Taste in der Leiste oben ausgeführt werden.</p>\n",
    "</font>"
   ]
  },
  {
   "cell_type": "code",
   "execution_count": 1,
   "metadata": {},
   "outputs": [],
   "source": [
    "import numpy as np\n",
    "\n",
    "# Funktion zur Berechnung der Singulärwertzerlegung\n",
    "def Singulaerwertzerlegung(A):\n",
    "    \n",
    "    # wenn Anzahl der Reihen kleiner als Anzahl der Spalten, berechne Eigenwerte mit AA^T und zuerst V\n",
    "    if len(A) < len(A[0]):\n",
    "        # Eigenwerte von AA^T berechnen\n",
    "        AAT = A.dot(np.transpose(A))\n",
    "        lamb, e = np.linalg.eig(AAT)\n",
    "        # Eigenwerte sortieren (absteigend)\n",
    "        idx = lamb.argsort()[::-1]\n",
    "        lamb = lamb[idx]\n",
    "        e = e[:,idx]\n",
    "    \n",
    "        # Sigma erstellen\n",
    "        Sigma = np.zeros((len(A),len(A[0])))\n",
    "        for i in range(len(A)):\n",
    "            Sigma[i,i] = np.sqrt(lamb[i])\n",
    "    \n",
    "    \n",
    "        # Eigenwerte von A^TA berechnen\n",
    "        ATA = np.transpose(A).dot(A)\n",
    "        lamb, e = np.linalg.eig(ATA)\n",
    "    \n",
    "        # Eigenwerte sortieren (absteigend)\n",
    "        idx = lamb.argsort()[::-1]\n",
    "        lamb = lamb[idx]\n",
    "        e = e[:,idx]\n",
    "    \n",
    "        # V erstellen\n",
    "        V = np.zeros((len(A[0]), len(A[0])))\n",
    "        for i in range(len(A[0])):\n",
    "            for j in range(len(A[0])):\n",
    "                V[i][j] = e[i][j]\n",
    "        \n",
    "        # Berechnen von U\n",
    "        U = np.zeros((len(A), len(A)))\n",
    "        for i in range(len(A)):\n",
    "            U[:,i] = np.divide(A.dot(V[:,i]),Sigma[i][i])\n",
    "            \n",
    "    else:\n",
    "        # Eigenwerte von A^TA berechnen\n",
    "        ATA = np.transpose(A).dot(A)\n",
    "        lamb, e = np.linalg.eig(ATA)\n",
    "        # Eigenwerte sortieren (absteigend)\n",
    "        idx = lamb.argsort()[::-1]\n",
    "        lamb = lamb[idx]\n",
    "        e = e[:,idx]\n",
    "    \n",
    "        # Sigma erstellen\n",
    "        Sigma = np.zeros((len(A),len(A[0])))\n",
    "        for i in range(len(A[0])):\n",
    "            Sigma[i,i] = np.sqrt(lamb[i])\n",
    "    \n",
    "    \n",
    "        # Eigenwerte von AA^T berechnen\n",
    "        AAT = A.dot(np.transpose(A))\n",
    "        lamb, e = np.linalg.eig(AAT)\n",
    "    \n",
    "        # Eigenwerte sortieren (absteigend)\n",
    "        idx = lamb.argsort()[::-1]\n",
    "        lamb = lamb[idx]\n",
    "        e = e[:,idx]\n",
    "    \n",
    "        # U erstellen\n",
    "        U = np.zeros((len(A), len(A)))\n",
    "        for i in range(len(A)):\n",
    "            for j in range(len(A)):\n",
    "                U[i][j] = e[i][j]\n",
    "        \n",
    "        # Berechnen von V\n",
    "        V = np.zeros((len(A[0]), len(A[0])))\n",
    "        for i in range(len(A[0])):\n",
    "            V[:,i] = np.divide(np.transpose(A).dot(U[:,i]),Sigma[i][i])\n",
    "    \n",
    "    # Singulärwertzerlegung anzeigen\n",
    "    print(\"U = \", U)\n",
    "    print(\"Sigma = \", Sigma)\n",
    "    print(\"V = \", V)\n",
    "    print(\"A = \", U.dot(Sigma.dot(np.transpose(V))))"
   ]
  },
  {
   "cell_type": "markdown",
   "metadata": {},
   "source": [
    "<font size=\"3\" face=\"Verdana\">\n",
    "<p style=\"text-align:justify\">Die Eingabe-Matrix kann beliebig geändert werden. Zum Ausführen des Codes muss zunächst in das Feld mit dem Code geklickt werden und dann in der Leiste oben auf \"Run\".</p>"
   ]
  },
  {
   "cell_type": "code",
   "execution_count": 2,
   "metadata": {},
   "outputs": [
    {
     "name": "stdout",
     "output_type": "stream",
     "text": [
      "U =  [[-0.58526771 -0.37290509 -0.01377053 -0.71987073]\n",
      " [-0.16650093 -0.74568816  0.38965598  0.51419338]\n",
      " [-0.59003749  0.0904194  -0.6671508   0.44563426]\n",
      " [-0.53065516  0.54471579  0.6347349   0.13711823]]\n",
      "Sigma =  [[8.94196943 0.         0.        ]\n",
      " [0.         4.3328427  0.        ]\n",
      " [0.         0.         1.50587413]\n",
      " [0.         0.         0.        ]]\n",
      "V =  [[-0.50025121  0.37247874  0.78167021]\n",
      " [-0.40419998  0.69789674 -0.59123812]\n",
      " [-0.76574872 -0.61171867 -0.19856779]]\n",
      "A =  [[ 2.00000000e+00  1.00000000e+00  5.00000000e+00]\n",
      " [-6.10622664e-16 -2.00000000e+00  3.00000000e+00]\n",
      " [ 2.00000000e+00  3.00000000e+00  4.00000000e+00]\n",
      " [ 4.00000000e+00  3.00000000e+00  2.00000000e+00]]\n"
     ]
    }
   ],
   "source": [
    "# Eingabe-Matrix, kann beliebig geändert werden\n",
    "#A = np.array([[Zeile 1],\n",
    "#    [Zeile 2]])\n",
    "\n",
    "A = np.array([[2, 1, 5],\n",
    "    [0, -2, 3], [2, 3, 4], [4, 3, 2]])\n",
    "\n",
    "Singulaerwertzerlegung(A)"
   ]
  },
  {
   "cell_type": "code",
   "execution_count": null,
   "metadata": {},
   "outputs": [],
   "source": []
  }
 ],
 "metadata": {
  "kernelspec": {
   "display_name": "Python 3 (ipykernel)",
   "language": "python",
   "name": "python3"
  },
  "language_info": {
   "codemirror_mode": {
    "name": "ipython",
    "version": 3
   },
   "file_extension": ".py",
   "mimetype": "text/x-python",
   "name": "python",
   "nbconvert_exporter": "python",
   "pygments_lexer": "ipython3",
   "version": "3.7.6"
  }
 },
 "nbformat": 4,
 "nbformat_minor": 2
}
