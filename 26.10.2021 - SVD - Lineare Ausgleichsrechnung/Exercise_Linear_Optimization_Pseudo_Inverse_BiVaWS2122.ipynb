{
 "cells": [
  {
   "cell_type": "markdown",
   "id": "7415e347",
   "metadata": {},
   "source": [
    "## Exercise 03: Linear Optimization using Pseudo Inverse\n",
    "**Objectives of the lesson:**\n",
    "\n",
    "1. Create 2-D Datapoint & Linear Equation\n",
    "2. Leftwise Moore-Penrose Pseudo-Inverse\n",
    "3. Leftwise SVD Pseudo-Inverse + Student Exercise\n",
    "4. Solve Linear Equation\n",
    "5. Calculate Error Rate"
   ]
  },
  {
   "cell_type": "code",
   "execution_count": 8,
   "id": "1940dd08",
   "metadata": {},
   "outputs": [],
   "source": [
    "#import Numpy for numerical operations, alias 'np' in code below\n",
    "import numpy as np"
   ]
  },
  {
   "cell_type": "markdown",
   "id": "1caf67d3",
   "metadata": {},
   "source": [
    "## 1. Create 2-D Datapoint & Linear Equation "
   ]
  },
  {
   "cell_type": "markdown",
   "id": "26cb6d64",
   "metadata": {},
   "source": [
    "**Linear Equation: y = a*x + b, 2-D datapoint di = (x,y)**\n",
    "\n",
    "**Aim of cell below:** Bring given 2-D datapoints in form of linear equation, e.g. for three datapoints: <br>\n",
    "[x1 1]$\\;\\;$  [a]$\\;\\;$     [y1]<br>\n",
    "[x2 1] * [b]  = [y2]<br>\n",
    "[x3 1]$\\;\\;$$\\;\\;$$\\;\\;$$\\;\\;$   [y3]"
   ]
  },
  {
   "cell_type": "code",
   "execution_count": 9,
   "id": "5df78ae8",
   "metadata": {},
   "outputs": [
    {
     "name": "stdout",
     "output_type": "stream",
     "text": [
      "\n",
      "slope-intercept-x-values: \n",
      "[[2. 1.]\n",
      " [6. 1.]\n",
      " [4. 1.]]\n",
      "\n",
      "y-values: \n",
      "[2.95 4.9  4.2 ]\n"
     ]
    }
   ],
   "source": [
    "# Given 2-D datapoints, d1 = (2, 2.95), d2 = (6, 4.9), d3 = (4, 4.2)\n",
    "data = np.matrix([[2, 2.95],\n",
    "                  [6, 4.9],\n",
    "                  [4, 4.2]])\n",
    "\n",
    "# create linear equation \n",
    "x = np.ones(data.shape)\n",
    "\n",
    "# y for 2-D datapoints, /2 -> Please change for 3-D : /3 \n",
    "y = np.ones(int(data.size/2))\n",
    "\n",
    "index_rows = 0\n",
    "\n",
    "for i in data:\n",
    "        # copy columns from data to equation variables\n",
    "        x[index_rows][0] = i[:,0]\n",
    "        y[index_rows] = i[:,1]\n",
    "        # update row index\n",
    "        index_rows = index_rows + 1\n",
    "\n",
    "#final variables\n",
    "print(\"\\nslope-intercept-x-values: \\n\" + str(x))\n",
    "print(\"\\ny-values: \\n\" + str(y))"
   ]
  },
  {
   "cell_type": "markdown",
   "id": "330f2fa2",
   "metadata": {},
   "source": [
    "## 2. Leftwise Moore-Penrose Pseudo-Inverse"
   ]
  },
  {
   "cell_type": "markdown",
   "id": "d5a142e8",
   "metadata": {},
   "source": [
    "**Matrix_Pseudo_Inverse = (((A^T) * A)^-1) * (A^T)**\n",
    "\n",
    "A^T : Transposed Matrix A<br>\n",
    "A^-1: Inverse of Matrix A"
   ]
  },
  {
   "cell_type": "code",
   "execution_count": 10,
   "id": "36530acb",
   "metadata": {},
   "outputs": [],
   "source": [
    "# function to calculate moore penrose inverse\n",
    "def moore_penrose_inverse(matrix):\n",
    "    matrix_inv = np.round(np.dot((np.linalg.inv(np.dot(np.transpose(matrix),matrix))), np.transpose(matrix)), 9)\n",
    "    return matrix_inv"
   ]
  },
  {
   "cell_type": "markdown",
   "id": "ac59b91a",
   "metadata": {},
   "source": [
    "## 3. Leftwise SVD Pseudo-Inverse + Student Exercise"
   ]
  },
  {
   "cell_type": "markdown",
   "id": "fb94a323",
   "metadata": {},
   "source": [
    "**A = U * Sigma * (V^T)**\n",
    "\n",
    "A: Matrix \n",
    "\n",
    "**Matrix_Pseudo_Inverse = V * (Simga^+) * (U^T)**\n",
    "\n",
    "U^T: Transposed U <br>\n",
    "Sigma^+: Inverse of the diagonal of Sigma, (Sigma^x == ((Sigma^x)^T)\n"
   ]
  },
  {
   "cell_type": "code",
   "execution_count": 12,
   "id": "8c2e23c9",
   "metadata": {},
   "outputs": [],
   "source": [
    "# function to calculate SVD\n",
    "def svd(A):\n",
    "    # if count rows < count columns, calculate Eigenvalues with AA^T and V first\n",
    "    if len(A) < len(A[0]):\n",
    "        # calculate Eigenvalues with AA^T\n",
    "        AAT = A.dot(np.transpose(A))\n",
    "        lamb, e = np.linalg.eig(AAT)\n",
    "        # sort Eigenvalues descending\n",
    "        idx = lamb.argsort()[::-1]\n",
    "        lamb = lamb[idx]\n",
    "        e = e[:,idx]\n",
    "    \n",
    "        # calculate Sigma \n",
    "        Sigma = np.zeros((len(A),len(A[0])))\n",
    "        for i in range(len(A)):\n",
    "            Sigma[i,i] = np.sqrt(lamb[i])\n",
    "    \n",
    "        # calculate Eigenvalues from A^TA\n",
    "        ATA = np.transpose(A).dot(A)\n",
    "        lamb, e = np.linalg.eig(ATA)\n",
    "    \n",
    "        # sort Eigenvalues descending\n",
    "        idx = lamb.argsort()[::-1]\n",
    "        lamb = lamb[idx]\n",
    "        e = e[:,idx]\n",
    "    \n",
    "        # calculate V\n",
    "        V = np.zeros((len(A[0]), len(A[0])))\n",
    "        for i in range(len(A[0])):\n",
    "            for j in range(len(A[0])):\n",
    "                V[i][j] = e[i][j]\n",
    "        \n",
    "        # calculate U\n",
    "        U = np.zeros((len(A), len(A)))\n",
    "        for i in range(len(A)):\n",
    "            U[:,i] = np.divide(A.dot(V[:,i]),Sigma[i][i])\n",
    "            \n",
    "    else:\n",
    "        # calculate Eigenvalues from A^TA\n",
    "        ATA = np.transpose(A).dot(A)\n",
    "        lamb, e = np.linalg.eig(ATA)\n",
    "        # Sort Eigenvalues descending\n",
    "        idx = lamb.argsort()[::-1]\n",
    "        lamb = lamb[idx]\n",
    "        e = e[:,idx]\n",
    "    \n",
    "        # calculate Sigma\n",
    "        Sigma = np.zeros((len(A),len(A[0])))\n",
    "        for i in range(len(A[0])):\n",
    "            Sigma[i,i] = np.sqrt(lamb[i])\n",
    "    \n",
    "        # calculate Eigenvalues from AA^T\n",
    "        AAT = A.dot(np.transpose(A))\n",
    "        lamb, e = np.linalg.eig(AAT)\n",
    "    \n",
    "        # sort Eigenvalues descending\n",
    "        idx = lamb.argsort()[::-1]\n",
    "        lamb = lamb[idx]\n",
    "        e = e[:,idx]\n",
    "    \n",
    "        # calculate U\n",
    "        U = np.zeros((len(A), len(A)))\n",
    "        for i in range(len(A)):\n",
    "            for j in range(len(A)):\n",
    "                U[i][j] = e[i][j]\n",
    "        \n",
    "        # calculate V\n",
    "        V = np.zeros((len(A[0]), len(A[0])))\n",
    "        for i in range(len(A[0])):\n",
    "            V[:,i] = np.divide(np.transpose(A).dot(U[:,i]),Sigma[i][i])\n",
    "    \n",
    "    # show SVD\n",
    "    #print(\"U = \", U)\n",
    "    #print(\"Sigma = \", Sigma)\n",
    "    #print(\"V = \", V)\n",
    "    #print(\"A = \", U.dot(Sigma.dot(np.transpose(V))))\n",
    "    \n",
    "    ################################# Student Exercise #################################\n",
    "    # task: Expand the given function to calculate the pseudo-inverse of matrix A with U,V and Sigma\n",
    "    # hint: check formulas above chapter 3 & round up to 7 decimal places\n",
    "    \n",
    "    pseudo_inv_svd = 0\n",
    "    \n",
    "    ####Start student work\n",
    "    \n",
    "    print(\"SVD Pseudo-Inverse: \\n\", pseudo_inv_svd)\n",
    "    \n",
    "    return pseudo_inv_svd"
   ]
  },
  {
   "cell_type": "markdown",
   "id": "8751d9ab",
   "metadata": {},
   "source": [
    "## 4. Solve Linear Equation"
   ]
  },
  {
   "cell_type": "markdown",
   "id": "e1319c5a",
   "metadata": {},
   "source": [
    "**E.g. for solving equation with 3 datapoints:** <br>\n",
    "[a]$\\;\\;$ = ([x1, 1]) ^-1 $\\;\\;$ * $\\;\\;$ [y1] <br>\n",
    "[b] $\\;\\;$ $\\;$ ([x2, 1])$\\;\\;$ $\\;\\;$$\\;\\;$ $\\;\\;$$\\;\\;$  [y2] <br>\n",
    "$\\;\\;$ $\\;\\;$ $\\;\\;$ ([x3, 1])$\\;\\;$ $\\;\\;$ $\\;\\;$ $\\;\\;$$\\;$  [y3]"
   ]
  },
  {
   "cell_type": "code",
   "execution_count": 5,
   "id": "8d32131d",
   "metadata": {},
   "outputs": [
    {
     "name": "stdout",
     "output_type": "stream",
     "text": [
      "Moore-Penrose Pseudo-Inverse:\n",
      " [[-0.25        0.25        0.        ]\n",
      " [ 1.33333333 -0.66666667  0.33333333]]\n",
      "Values for unknown variables:\n",
      " [0.4875     2.06666666]\n"
     ]
    }
   ],
   "source": [
    "# calculate result from linear equation - a,b | a*x + b = y\n",
    "x_inv = moore_penrose_inverse(x)\n",
    "print(\"Moore-Penrose Pseudo-Inverse:\\n\", x_inv)\n",
    "##### Student Exercise - see chapter three for task description #####\n",
    "#x_inv = svd(x) - should run to same results as More-Penrose pseudo-inverse\n",
    "#print(\"SVD Peusdo-Inverse:\\n\", x_inv)\n",
    "# solve linear equation, in this case 2-D for a,b \n",
    "result = np.dot(x_inv, y)\n",
    "print(\"Values for unknown variables:\\n\", result)"
   ]
  },
  {
   "cell_type": "markdown",
   "id": "7b091af8",
   "metadata": {},
   "source": [
    "## 5. Calculate Error Rate (Optional for: Noisy Datapoints)\n",
    "**E.g. for computing error with 3 datapoints:**<br>\n",
    "[r1] $\\;\\;$ [y1]$\\;\\;$[x1, 1]$\\;\\;$ $\\;\\;$[a]<br>\n",
    "[r2] = [y2] - [x2, 1] *$\\;\\;$ [b]<br>\n",
    "[r3] $\\;\\;$ [y3]$\\;\\;$[x3, 1]   "
   ]
  },
  {
   "cell_type": "code",
   "execution_count": 6,
   "id": "d39701c2",
   "metadata": {},
   "outputs": [
    {
     "name": "stdout",
     "output_type": "stream",
     "text": [
      "Error Vector: \n",
      " [-0.09166666 -0.09166666  0.18333334]\n",
      "Error Value: \n",
      " 0.05041666666666676\n"
     ]
    }
   ],
   "source": [
    "# calculate error values regarding linear equation results\n",
    "error_vec = y - (np.dot(x, result))\n",
    "# calculate absolute error\n",
    "error_r = np.absolute(np.dot(error_vec, error_vec))\n",
    "#print error results\n",
    "print(\"Error Vector: \\n\",error_vec)\n",
    "# error value = np.dot(error vector, error vector), inner product\n",
    "print(\"Error Value: \\n\", error_r)"
   ]
  },
  {
   "cell_type": "code",
   "execution_count": null,
   "id": "77831413",
   "metadata": {},
   "outputs": [],
   "source": []
  }
 ],
 "metadata": {
  "kernelspec": {
   "display_name": "Python 3",
   "language": "python",
   "name": "python3"
  },
  "language_info": {
   "codemirror_mode": {
    "name": "ipython",
    "version": 3
   },
   "file_extension": ".py",
   "mimetype": "text/x-python",
   "name": "python",
   "nbconvert_exporter": "python",
   "pygments_lexer": "ipython3",
   "version": "3.7.0"
  }
 },
 "nbformat": 4,
 "nbformat_minor": 5
}
